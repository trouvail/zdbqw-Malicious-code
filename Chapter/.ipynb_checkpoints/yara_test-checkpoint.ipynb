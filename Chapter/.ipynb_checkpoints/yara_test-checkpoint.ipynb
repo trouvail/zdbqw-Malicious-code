{
 "cells": [
  {
   "cell_type": "code",
   "execution_count": 1,
   "id": "7a41b12b-db1b-4c47-bf6f-30ec34f48d99",
   "metadata": {},
   "outputs": [],
   "source": [
    "# import yara-python-4.2.3 as yara\n",
    "import yara"
   ]
  },
  {
   "cell_type": "code",
   "execution_count": 2,
   "id": "5e3a86e4-0cab-4b4d-a20a-35ecbc6ee77d",
   "metadata": {},
   "outputs": [],
   "source": [
    "import os"
   ]
  },
  {
   "cell_type": "code",
   "execution_count": 3,
   "id": "830dd406-5bc8-4cd3-9206-8045c928c381",
   "metadata": {},
   "outputs": [],
   "source": [
    "# 获取目录内的yara规则\n",
    "def getRules(path):\n",
    "    filepath = {}\n",
    "    for index, file in enumerate(os.listdir(path)):\n",
    "        # 获取当前目录下的所有文件\n",
    "        rupath = os.path.join(path, file)\n",
    "        if os.path.isfile(rupath):# 如果这个是一个文件而不是目录\n",
    "            key = \"rule\" + str(index)\n",
    "            filepath[key] = rupath\n",
    "    # 开始提取所有的规则\n",
    "    yararule = yara.compile(filepaths=filepath)\n",
    "    return yararule"
   ]
  },
  {
   "cell_type": "code",
   "execution_count": 4,
   "id": "e7970613-f1d7-4856-b040-37a54b2d436b",
   "metadata": {},
   "outputs": [],
   "source": [
    "# 扫描函数\n",
    "def scan(rule, path):\n",
    "    for file in os.listdir(path.encode('utf-8').decode('utf-8')):\n",
    "        # 打印当前的文件\n",
    "        print('----------------------------------------------')\n",
    "        mapath = os.path.join(path, file)\n",
    "        print(mapath)\n",
    "        # print('\\n2')\n",
    "        print('----------------------------------------------\\n')\n",
    "        fp = open(mapath, 'rb')\n",
    "        matches = rule.match(data=fp.read())\n",
    "        if len(matches) > 0:\n",
    "            # 打印匹配后的信息\n",
    "            print('++++++++++++++++++++++++++++++++++++++++++++++')\n",
    "            print(file, matches)\n",
    "            # print('\\n1')\n",
    "            print('++++++++++++++++++++++++++++++++++++++++++++++\\n')"
   ]
  },
  {
   "cell_type": "code",
   "execution_count": 5,
   "id": "e4f51a61-0a43-4bcc-8384-52af6633c8af",
   "metadata": {},
   "outputs": [],
   "source": [
    "# if __name__ == '__main__':\n",
    "#     rulepath = \"/home/authenticate/yara/rule_yara/\"   # yara规则目录\n",
    "#     malpath =\"/home/authenticate/yara/test_simple/\" # simple目录\n",
    "#     # yara规则编译函数调用\n",
    "#     yararule = getRules(rulepath)\n",
    "#     # 扫描函数调用\n",
    "#     scan(yararule, malpath)"
   ]
  },
  {
   "cell_type": "code",
   "execution_count": 10,
   "id": "f3c23ac3-1322-4505-af9f-4c6d67650bc8",
   "metadata": {},
   "outputs": [
    {
     "name": "stdout",
     "output_type": "stream",
     "text": [
      "----------------------------------------------\n",
      "./Chapter_1L/Lab01-03.exe\n",
      "----------------------------------------------\n",
      "\n",
      "++++++++++++++++++++++++++++++++++++++++++++++\n",
      "Lab01-03.exe {'rule2': [{'tags': ['banker'], 'meta': {'description': 'If 你被 detect, then 你 should be a PE文件!'}, 'strings': [{'data': 'MZ', 'offset': 0, 'identifier': '$a', 'flags': 23}], 'rule': 'silent_banker', 'matches': True}]}\n",
      "++++++++++++++++++++++++++++++++++++++++++++++\n",
      "\n",
      "----------------------------------------------\n",
      "./Chapter_1L/Lab01-02.exe\n",
      "----------------------------------------------\n",
      "\n",
      "++++++++++++++++++++++++++++++++++++++++++++++\n",
      "Lab01-02.exe {'rule2': [{'tags': ['banker'], 'meta': {'description': 'If 你被 detect, then 你 should be a PE文件!'}, 'strings': [{'data': 'MZ', 'offset': 0, 'identifier': '$a', 'flags': 23}], 'rule': 'silent_banker', 'matches': True}]}\n",
      "++++++++++++++++++++++++++++++++++++++++++++++\n",
      "\n",
      "----------------------------------------------\n",
      "./Chapter_1L/Lab01-01.exe\n",
      "----------------------------------------------\n",
      "\n",
      "++++++++++++++++++++++++++++++++++++++++++++++\n",
      "Lab01-01.exe {'rule2': [{'tags': ['banker'], 'meta': {'description': 'If 你被 detect, then 你 should be a PE文件!'}, 'strings': [{'data': 'MZ', 'offset': 0, 'identifier': '$a', 'flags': 23}], 'rule': 'silent_banker', 'matches': True}]}\n",
      "++++++++++++++++++++++++++++++++++++++++++++++\n",
      "\n",
      "----------------------------------------------\n",
      "./Chapter_1L/.DS_Store\n",
      "----------------------------------------------\n",
      "\n",
      "++++++++++++++++++++++++++++++++++++++++++++++\n",
      ".DS_Store {'rule0': [{'tags': [], 'meta': {'hash1': 'd43171eb3bb368b0dad4a4f69c4d7850df03016aa0e05e01cf70635506ac5826', 'date': '2022-10-12', 'reference': 'https://github.com/Neo23x0/yarGen', 'author': 'yarGen Rule Generator', 'description': 'Chapter_1L - file .DS_Store'}, 'strings': [{'data': 'L\\x00\\x00\\x00\\x00\\x00\\x00\\x00\\x00\\x00\\x00\\x00\\x00\\x00\\x00\\x00\\x02\\x00\\x00\\x00\\x00\\x00', 'offset': 977, 'identifier': '$s14', 'flags': 163}, {'data': 'L\\x00\\x00\\x00\\x00\\x00\\x00\\x00\\x00\\x00\\x00\\x00\\x00\\x00\\x00\\x00\\x02\\x00\\x00\\x00\\x00\\x00', 'offset': 921, 'identifier': '$s13', 'flags': 163}, {'data': 'L\\x00\\x00\\x00\\x00\\x00\\x00\\x00\\x00\\x00\\x00\\x00\\x00\\x00\\x00\\x00\\x02\\x00\\x00\\x00\\x00\\x00', 'offset': 865, 'identifier': '$s12', 'flags': 163}, {'data': 'L\\x00\\x00\\x00\\x00\\x00\\x00\\x00\\x00\\x00\\x00\\x00\\x00\\x00\\x00\\x00\\x02\\x00\\x00\\x00\\x00\\x00', 'offset': 809, 'identifier': '$s11', 'flags': 163}, {'data': 'L\\x00\\x00\\x00\\x00\\x00\\x00\\x00\\x00\\x00\\x00\\x00\\x00\\x00\\x00\\x00\\x02\\x00\\x00\\x00\\x00\\x00', 'offset': 753, 'identifier': '$s10', 'flags': 163}, {'data': 'L\\x00\\x00\\x00\\x00\\x00\\x00\\x00\\x00\\x00\\x00\\x00\\x00\\x00\\x00\\x00\\x02\\x00\\x00\\x00\\x00\\x00', 'offset': 641, 'identifier': '$s9', 'flags': 163}, {'data': 'L\\x00\\x00\\x00\\x00\\x00\\x00\\x00\\x00\\x00\\x00\\x00\\x00\\x00\\x00\\x00\\x02\\x00\\x00\\x00\\x00\\x00', 'offset': 697, 'identifier': '$s9', 'flags': 163}, {'data': 'L\\x00\\x00\\x00\\x00\\x00\\x00\\x00\\x00\\x00\\x00\\x00\\x00\\x00\\x00\\x00\\x02\\x00\\x00\\x00\\x00\\x00', 'offset': 585, 'identifier': '$s8', 'flags': 163}, {'data': 'L\\x00\\x00\\x00\\x00\\x00\\x00\\x00\\x00\\x00\\x00\\x00\\x00\\x00\\x00\\x00\\x02\\x00\\x00\\x00\\x00\\x00', 'offset': 529, 'identifier': '$s7', 'flags': 163}, {'data': '1\\x00\\x00\\x00\\x00\\x00\\x00\\x00\\x00\\x00\\x00\\x00', 'offset': 89, 'identifier': '$s6', 'flags': 163}, {'data': 'eIlocblob', 'offset': 607, 'identifier': '$s5', 'flags': 147}, {'data': 'eIlocblob', 'offset': 887, 'identifier': '$s5', 'flags': 147}, {'data': 'eIlocblob', 'offset': 943, 'identifier': '$s5', 'flags': 147}, {'data': 'eIlocblob', 'offset': 999, 'identifier': '$s5', 'flags': 147}, {'data': '0Ilocblob', 'offset': 663, 'identifier': '$s4', 'flags': 147}, {'data': 'mIlocblob', 'offset': 775, 'identifier': '$s3', 'flags': 147}, {'data': '1Ilocblob', 'offset': 719, 'identifier': '$s2', 'flags': 147}, {'data': 'lIlocblob', 'offset': 551, 'identifier': '$s1', 'flags': 147}, {'data': 'lIlocblob', 'offset': 831, 'identifier': '$s1', 'flags': 147}], 'rule': '_DS_Store', 'matches': True}]}\n",
      "++++++++++++++++++++++++++++++++++++++++++++++\n",
      "\n",
      "----------------------------------------------\n",
      "./Chapter_1L/Lab01-04.exe\n",
      "----------------------------------------------\n",
      "\n",
      "++++++++++++++++++++++++++++++++++++++++++++++\n",
      "Lab01-04.exe {'rule0': [{'tags': [], 'meta': {'hash1': '0fa1498340fca6c562cfa389ad3e93395f44c72fd128d7ba08579a69aaf3b126', 'date': '2022-10-12', 'reference': 'https://github.com/Neo23x0/yarGen', 'author': 'yarGen Rule Generator', 'description': 'Chapter_1L - file Lab01-04.exe'}, 'strings': [{'data': '<not real>', 'offset': 12320, 'identifier': '$s6', 'flags': 179}, {'data': 'SeDebugPrivilege', 'offset': 12332, 'identifier': '$s5', 'flags': 179}, {'data': '\\\\winup.exe', 'offset': 12532, 'identifier': '$s4', 'flags': 179}, {'data': '\\\\winup.exe', 'offset': 28784, 'identifier': '$s4', 'flags': 179}, {'data': 'http://www.practicalmalwareanalysis.com/updater.exe', 'offset': 28836, 'identifier': '$s3', 'flags': 179}, {'data': '\\\\system32\\\\wupdmgrd.exe', 'offset': 28804, 'identifier': '$s2', 'flags': 179}, {'data': '\\\\system32\\\\wupdmgr.exe', 'offset': 12364, 'identifier': '$s1', 'flags': 179}, {'data': '\\\\system32\\\\wupdmgr.exe', 'offset': 12500, 'identifier': '$s1', 'flags': 179}], 'rule': 'Lab01_04', 'matches': True}], 'rule2': [{'tags': ['banker'], 'meta': {'description': 'If 你被 detect, then 你 should be a PE文件!'}, 'strings': [{'data': 'MZ', 'offset': 0, 'identifier': '$a', 'flags': 23}, {'data': 'MZ', 'offset': 16480, 'identifier': '$a', 'flags': 23}], 'rule': 'silent_banker', 'matches': True}]}\n",
      "++++++++++++++++++++++++++++++++++++++++++++++\n",
      "\n",
      "----------------------------------------------\n",
      "./Chapter_1L/Lab01-01.dll\n",
      "----------------------------------------------\n",
      "\n",
      "++++++++++++++++++++++++++++++++++++++++++++++\n",
      "Lab01-01.dll {'rule2': [{'tags': ['banker'], 'meta': {'description': 'If 你被 detect, then 你 should be a PE文件!'}, 'strings': [{'data': 'MZ', 'offset': 0, 'identifier': '$a', 'flags': 23}], 'rule': 'silent_banker', 'matches': True}], 'rule3': [{'tags': ['banker'], 'meta': {'description': 'If 你被 detect, then 你 should have a Sleep function!'}, 'strings': [{'data': 'Sleep', 'offset': 8472, 'identifier': '$Sleep_hex', 'flags': 23}], 'rule': 'silent_banker', 'matches': True}], 'rule5': [{'tags': [], 'meta': {'reference': 'any useful reference', 'date': '2022/10/11', 'version': '1.0.0', 'author': 'hamlin-zhou'}, 'strings': [{'data': 'CreateProcess', 'offset': 8480, 'identifier': '$str1', 'flags': 23}], 'rule': 'wxn', 'matches': True}]}\n",
      "++++++++++++++++++++++++++++++++++++++++++++++\n",
      "\n"
     ]
    }
   ],
   "source": [
    "rulepath = \"./yara_rule\"   # yara规则目录\n",
    "malpath =\"./Chapter_1L\" # 样例目录\n",
    "# yara规则编译函数调用\n",
    "yararule = getRules(rulepath)\n",
    "# 扫描函数调用\n",
    "scan(yararule, malpath)"
   ]
  },
  {
   "cell_type": "code",
   "execution_count": null,
   "id": "88796759-fa22-40c6-a08b-bf7560a09033",
   "metadata": {},
   "outputs": [],
   "source": []
  }
 ],
 "metadata": {
  "kernelspec": {
   "display_name": "Python 3 (ipykernel)",
   "language": "python",
   "name": "python3"
  },
  "language_info": {
   "codemirror_mode": {
    "name": "ipython",
    "version": 3
   },
   "file_extension": ".py",
   "mimetype": "text/x-python",
   "name": "python",
   "nbconvert_exporter": "python",
   "pygments_lexer": "ipython3",
   "version": "3.8.13"
  }
 },
 "nbformat": 4,
 "nbformat_minor": 5
}
